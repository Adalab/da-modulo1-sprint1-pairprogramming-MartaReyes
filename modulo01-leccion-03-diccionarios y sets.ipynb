{
 "cells": [
  {
   "cell_type": "code",
   "execution_count": 2,
   "metadata": {},
   "outputs": [
    {
     "data": {
      "text/plain": [
       "{}"
      ]
     },
     "execution_count": 2,
     "metadata": {},
     "output_type": "execute_result"
    }
   ],
   "source": [
    "#1. Crear un diccionario vacío\n",
    "#Descripción: Crea un diccionario vacío sin ningún par clave-valor.\n",
    "diccionario= {}\n",
    "diccionario"
   ]
  },
  {
   "cell_type": "code",
   "execution_count": 3,
   "metadata": {},
   "outputs": [
    {
     "name": "stdout",
     "output_type": "stream",
     "text": [
      "{'nombre': 'Reyes', 'apellido': 'Fernandez', 'SO': 'Windows', 'Python': 'Sí', 'GitHub': 'Sí'}\n"
     ]
    }
   ],
   "source": [
    "#2. Crear un diccionario con elementos\n",
    "# Descripción: Crea un diccionario con pares clave-valor predefinidos. Definir el diccionario con las claves y valores que querais. NOTA El diccionario debe tener al menos 5 pares de clave:valor.\n",
    "diccionario_clase={\"nombre\": \"Reyes\", \"apellido\":\"Fernandez\", \"SO\":\"Windows\", \"Python\": \"Sí\", \"GitHub\": \"Sí\"}\n",
    "print(diccionario_clase)"
   ]
  },
  {
   "cell_type": "code",
   "execution_count": 4,
   "metadata": {},
   "outputs": [
    {
     "name": "stdout",
     "output_type": "stream",
     "text": [
      "¿Qué quieres que busque?\n"
     ]
    },
    {
     "ename": "KeyboardInterrupt",
     "evalue": "Interrupted by user",
     "output_type": "error",
     "traceback": [
      "\u001b[0;31m---------------------------------------------------------------------------\u001b[0m",
      "\u001b[0;31mKeyboardInterrupt\u001b[0m                         Traceback (most recent call last)",
      "\u001b[1;32m/Users/marta/Documents/adalab/pair_programming/da-modulo1-sprint1-pairprogramming-MartaReyes/modulo01-leccion-03-diccionarios y sets.ipynb Cell 3\u001b[0m line \u001b[0;36m4\n\u001b[1;32m      <a href='vscode-notebook-cell:/Users/marta/Documents/adalab/pair_programming/da-modulo1-sprint1-pairprogramming-MartaReyes/modulo01-leccion-03-diccionarios%20y%20sets.ipynb#W2sZmlsZQ%3D%3D?line=0'>1</a>\u001b[0m \u001b[39m#3. Acceder al valor de una clave en un diccionario\u001b[39;00m\n\u001b[1;32m      <a href='vscode-notebook-cell:/Users/marta/Documents/adalab/pair_programming/da-modulo1-sprint1-pairprogramming-MartaReyes/modulo01-leccion-03-diccionarios%20y%20sets.ipynb#W2sZmlsZQ%3D%3D?line=1'>2</a>\u001b[0m \u001b[39m#Descripción: Usando el diccionario creado en el paso anterior, obtén el valor correspondiente a una clave específica que indique el usuario (debereis usar la función input() para preguntar al usuario).\u001b[39;00m\n\u001b[1;32m      <a href='vscode-notebook-cell:/Users/marta/Documents/adalab/pair_programming/da-modulo1-sprint1-pairprogramming-MartaReyes/modulo01-leccion-03-diccionarios%20y%20sets.ipynb#W2sZmlsZQ%3D%3D?line=2'>3</a>\u001b[0m \u001b[39mprint\u001b[39m(\u001b[39m\"\u001b[39m\u001b[39m¿Qué quieres que busque?\u001b[39m\u001b[39m\"\u001b[39m)\n\u001b[0;32m----> <a href='vscode-notebook-cell:/Users/marta/Documents/adalab/pair_programming/da-modulo1-sprint1-pairprogramming-MartaReyes/modulo01-leccion-03-diccionarios%20y%20sets.ipynb#W2sZmlsZQ%3D%3D?line=3'>4</a>\u001b[0m busqueda\u001b[39m=\u001b[39m\u001b[39minput\u001b[39m()\n\u001b[1;32m      <a href='vscode-notebook-cell:/Users/marta/Documents/adalab/pair_programming/da-modulo1-sprint1-pairprogramming-MartaReyes/modulo01-leccion-03-diccionarios%20y%20sets.ipynb#W2sZmlsZQ%3D%3D?line=4'>5</a>\u001b[0m diccionario_clase\u001b[39m.\u001b[39mget(busqueda, \u001b[39m\"\u001b[39m\u001b[39mNo está en el diccionario\u001b[39m\u001b[39m\"\u001b[39m)\n",
      "File \u001b[0;32m~/anaconda3/lib/python3.11/site-packages/ipykernel/kernelbase.py:1175\u001b[0m, in \u001b[0;36mKernel.raw_input\u001b[0;34m(self, prompt)\u001b[0m\n\u001b[1;32m   1171\u001b[0m \u001b[39mif\u001b[39;00m \u001b[39mnot\u001b[39;00m \u001b[39mself\u001b[39m\u001b[39m.\u001b[39m_allow_stdin:\n\u001b[1;32m   1172\u001b[0m     \u001b[39mraise\u001b[39;00m StdinNotImplementedError(\n\u001b[1;32m   1173\u001b[0m         \u001b[39m\"\u001b[39m\u001b[39mraw_input was called, but this frontend does not support input requests.\u001b[39m\u001b[39m\"\u001b[39m\n\u001b[1;32m   1174\u001b[0m     )\n\u001b[0;32m-> 1175\u001b[0m \u001b[39mreturn\u001b[39;00m \u001b[39mself\u001b[39m\u001b[39m.\u001b[39m_input_request(\n\u001b[1;32m   1176\u001b[0m     \u001b[39mstr\u001b[39m(prompt),\n\u001b[1;32m   1177\u001b[0m     \u001b[39mself\u001b[39m\u001b[39m.\u001b[39m_parent_ident[\u001b[39m\"\u001b[39m\u001b[39mshell\u001b[39m\u001b[39m\"\u001b[39m],\n\u001b[1;32m   1178\u001b[0m     \u001b[39mself\u001b[39m\u001b[39m.\u001b[39mget_parent(\u001b[39m\"\u001b[39m\u001b[39mshell\u001b[39m\u001b[39m\"\u001b[39m),\n\u001b[1;32m   1179\u001b[0m     password\u001b[39m=\u001b[39m\u001b[39mFalse\u001b[39;00m,\n\u001b[1;32m   1180\u001b[0m )\n",
      "File \u001b[0;32m~/anaconda3/lib/python3.11/site-packages/ipykernel/kernelbase.py:1217\u001b[0m, in \u001b[0;36mKernel._input_request\u001b[0;34m(self, prompt, ident, parent, password)\u001b[0m\n\u001b[1;32m   1214\u001b[0m             \u001b[39mbreak\u001b[39;00m\n\u001b[1;32m   1215\u001b[0m \u001b[39mexcept\u001b[39;00m \u001b[39mKeyboardInterrupt\u001b[39;00m:\n\u001b[1;32m   1216\u001b[0m     \u001b[39m# re-raise KeyboardInterrupt, to truncate traceback\u001b[39;00m\n\u001b[0;32m-> 1217\u001b[0m     \u001b[39mraise\u001b[39;00m \u001b[39mKeyboardInterrupt\u001b[39;00m(\u001b[39m\"\u001b[39m\u001b[39mInterrupted by user\u001b[39m\u001b[39m\"\u001b[39m) \u001b[39mfrom\u001b[39;00m \u001b[39mNone\u001b[39;00m\n\u001b[1;32m   1218\u001b[0m \u001b[39mexcept\u001b[39;00m \u001b[39mException\u001b[39;00m:\n\u001b[1;32m   1219\u001b[0m     \u001b[39mself\u001b[39m\u001b[39m.\u001b[39mlog\u001b[39m.\u001b[39mwarning(\u001b[39m\"\u001b[39m\u001b[39mInvalid Message:\u001b[39m\u001b[39m\"\u001b[39m, exc_info\u001b[39m=\u001b[39m\u001b[39mTrue\u001b[39;00m)\n",
      "\u001b[0;31mKeyboardInterrupt\u001b[0m: Interrupted by user"
     ]
    }
   ],
   "source": [
    "#3. Acceder al valor de una clave en un diccionario\n",
    "#Descripción: Usando el diccionario creado en el paso anterior, obtén el valor correspondiente a una clave específica que indique el usuario (debereis usar la función input() para preguntar al usuario).\n",
    "print(\"¿Qué quieres que busque?\")\n",
    "busqueda=input()\n",
    "diccionario_clase.get(busqueda, \"No está en el diccionario\")\n",
    "\n",
    "\n"
   ]
  },
  {
   "cell_type": "code",
   "execution_count": 5,
   "metadata": {},
   "outputs": [
    {
     "data": {
      "text/plain": [
       "{'nombre': 'Reyes',\n",
       " 'apellido': 'Fernandez',\n",
       " 'SO': 'Windows',\n",
       " 'Python': 'Sí',\n",
       " 'GitHub': 'Sí',\n",
       " 'Promoción': 'F'}"
      ]
     },
     "execution_count": 5,
     "metadata": {},
     "output_type": "execute_result"
    }
   ],
   "source": [
    "#4. Agregar un nuevo par clave-valor a un diccionario\n",
    "# Descripción: Usando el diccionario creado en el ejercicio 2, agrega un nuevo par clave-valor.\n",
    "diccionario_clase[\"Promoción\"]= \"F\"\n",
    "diccionario_clase"
   ]
  },
  {
   "cell_type": "code",
   "execution_count": 7,
   "metadata": {},
   "outputs": [
    {
     "data": {
      "text/plain": [
       "{'nombre': 'Reyes',\n",
       " 'apellido': 'Fernandez',\n",
       " 'SO': 'Windows',\n",
       " 'Python': 'Sí',\n",
       " 'GitHub': 'Sí',\n",
       " 'Promoción': 'Promo F'}"
      ]
     },
     "execution_count": 7,
     "metadata": {},
     "output_type": "execute_result"
    }
   ],
   "source": [
    "# 5. Actualizar el valor de una clave en un diccionario\n",
    "# Descripción: Usando el diccionario creado en el ejercicio 2, actualiza el valor correspondiente a una clave existente.\n",
    "\n",
    "diccionario_clase2 = diccionario_clase.copy()\n",
    "diccionario_clase2[\"Promoción\"]= \"Promo F\"\n",
    "diccionario_clase2"
   ]
  },
  {
   "cell_type": "code",
   "execution_count": 9,
   "metadata": {},
   "outputs": [
    {
     "name": "stdout",
     "output_type": "stream",
     "text": [
      "¿Qué quieres que elimine?\n"
     ]
    },
    {
     "data": {
      "text/plain": [
       "{'nombre': 'Reyes',\n",
       " 'apellido': 'Fernandez',\n",
       " 'Python': 'Sí',\n",
       " 'GitHub': 'Sí',\n",
       " 'Promoción': 'Promo F'}"
      ]
     },
     "execution_count": 9,
     "metadata": {},
     "output_type": "execute_result"
    }
   ],
   "source": [
    "# 6. Eliminar un par clave-valor de un diccionario\n",
    "# Descripción: Usando el diccionario creado en el ejercicio 2, elimina un par clave-valor específico que indique el \n",
    "# usuario (debereis usar la función input() para preguntar al usuario).\n",
    "\n",
    "print(\"¿Qué quieres que elimine?\")\n",
    "eliminar = input()\n",
    "diccionario_clase2.pop(eliminar)\n",
    "diccionario_clase2"
   ]
  },
  {
   "cell_type": "code",
   "execution_count": 13,
   "metadata": {},
   "outputs": [
    {
     "name": "stdout",
     "output_type": "stream",
     "text": [
      "¿Qué quieres que busque?\n"
     ]
    },
    {
     "data": {
      "text/plain": [
       "'Reyes'"
      ]
     },
     "execution_count": 13,
     "metadata": {},
     "output_type": "execute_result"
    }
   ],
   "source": [
    "# 7. Verificar si una clave está presente en un diccionario\n",
    "# Descripción: Usando el diccionario creado en el ejercicio 2, verifica si una clave específica está presente en él. \n",
    "# La clave a buscar debe ser pasada por el usuario, debereis usar un input().\n",
    "\n",
    "print(\"¿Qué quieres que busque?\")\n",
    "clave = input()\n",
    "diccionario_clase2.get(clave)"
   ]
  },
  {
   "cell_type": "code",
   "execution_count": 14,
   "metadata": {},
   "outputs": [
    {
     "data": {
      "text/plain": [
       "dict_keys(['nombre', 'apellido', 'SO', 'Python', 'GitHub', 'Promoción'])"
      ]
     },
     "execution_count": 14,
     "metadata": {},
     "output_type": "execute_result"
    }
   ],
   "source": [
    "# 8. Obtener una lista de todas las claves de un diccionario\n",
    "# Descripción: Usando el diccionario creado en el ejercicio 2, obtén una lista con todas las claves que contiene.\n",
    "\n",
    "diccionario_clase.keys()"
   ]
  },
  {
   "cell_type": "code",
   "execution_count": 15,
   "metadata": {},
   "outputs": [
    {
     "data": {
      "text/plain": [
       "dict_values(['Reyes', 'Fernandez', 'Windows', 'Sí', 'Sí', 'F'])"
      ]
     },
     "execution_count": 15,
     "metadata": {},
     "output_type": "execute_result"
    }
   ],
   "source": [
    "# 9. Obtener una lista de todos los valores de un diccionario\n",
    "# Descripción: Usando el diccionario creado en el ejercicio 2, obtén una lista con todos los valores que contiene.\n",
    "\n",
    "diccionario_clase.values()"
   ]
  },
  {
   "cell_type": "code",
   "execution_count": 16,
   "metadata": {},
   "outputs": [
    {
     "data": {
      "text/plain": [
       "2023"
      ]
     },
     "execution_count": 16,
     "metadata": {},
     "output_type": "execute_result"
    }
   ],
   "source": [
    "# 10. Utilizar el método setdefault() para establecer un valor predeterminado si la clave no existe\n",
    "# Descripción: Usando el diccionario creado en el ejercicio 2, obten el valor correspondiente a una clave. Si la clave no existe, \n",
    "# establece un valor predeterminado y devuelve dicho valor.\n",
    "\n",
    "diccionario_clase.setdefault(\"año\", 2023)"
   ]
  }
 ],
 "metadata": {
  "kernelspec": {
   "display_name": "Python 3",
   "language": "python",
   "name": "python3"
  },
  "language_info": {
   "codemirror_mode": {
    "name": "ipython",
    "version": 3
   },
   "file_extension": ".py",
   "mimetype": "text/x-python",
   "name": "python",
   "nbconvert_exporter": "python",
   "pygments_lexer": "ipython3",
   "version": "3.11.4"
  }
 },
 "nbformat": 4,
 "nbformat_minor": 2
}
