{
 "cells": [
  {
   "cell_type": "code",
   "execution_count": 1,
   "metadata": {},
   "outputs": [
    {
     "data": {
      "text/plain": [
       "{}"
      ]
     },
     "execution_count": 1,
     "metadata": {},
     "output_type": "execute_result"
    }
   ],
   "source": [
    "#1. Crear un diccionario vacío\n",
    "#Descripción: Crea un diccionario vacío sin ningún par clave-valor.\n",
    "diccionario= {}\n",
    "diccionario"
   ]
  },
  {
   "cell_type": "code",
   "execution_count": 3,
   "metadata": {},
   "outputs": [
    {
     "name": "stdout",
     "output_type": "stream",
     "text": [
      "{'nombre': 'Reyes', 'apellido': 'Fernandez', 'SO': 'Windows', 'Python': 'Sí', 'GitHub': 'Sí'}\n"
     ]
    }
   ],
   "source": [
    "#2. Crear un diccionario con elementos\n",
    "# Descripción: Crea un diccionario con pares clave-valor predefinidos. Definir el diccionario con las claves y valores que querais. NOTA El diccionario debe tener al menos 5 pares de clave:valor.\n",
    "diccionario_clase={\"nombre\": \"Reyes\", \"apellido\":\"Fernandez\", \"SO\":\"Windows\", \"Python\": \"Sí\", \"GitHub\": \"Sí\"}\n",
    "print(diccionario_clase)"
   ]
  },
  {
   "cell_type": "code",
   "execution_count": 5,
   "metadata": {},
   "outputs": [
    {
     "name": "stdout",
     "output_type": "stream",
     "text": [
      "¿Qué quieres que busque?\n"
     ]
    },
    {
     "data": {
      "text/plain": [
       "'No está en el diccionario'"
      ]
     },
     "execution_count": 5,
     "metadata": {},
     "output_type": "execute_result"
    }
   ],
   "source": [
    "#3. Acceder al valor de una clave en un diccionario\n",
    "#Descripción: Usando el diccionario creado en el paso anterior, obtén el valor correspondiente a una clave específica que indique el usuario (debereis usar la función input() para preguntar al usuario).\n",
    "print(\"¿Qué quieres que busque?\")\n",
    "busqueda=input()\n",
    "diccionario_clase.get(busqueda, \"No está en el diccionario\")\n",
    "\n",
    "\n"
   ]
  },
  {
   "cell_type": "code",
   "execution_count": 8,
   "metadata": {},
   "outputs": [
    {
     "data": {
      "text/plain": [
       "{'nombre': 'Reyes',\n",
       " 'apellido': 'Fernandez',\n",
       " 'SO': 'Windows',\n",
       " 'Python': 'Sí',\n",
       " 'GitHub': 'Sí',\n",
       " 'Promoción': 'F'}"
      ]
     },
     "execution_count": 8,
     "metadata": {},
     "output_type": "execute_result"
    }
   ],
   "source": [
    "#4. Agregar un nuevo par clave-valor a un diccionario\n",
    "# Descripción: Usando el diccionario creado en el ejercicio 2, agrega un nuevo par clave-valor.\n",
    "diccionario_clase[\"Promoción\"]= \"F\"\n",
    "diccionario_clase"
   ]
  },
  {
   "cell_type": "code",
   "execution_count": null,
   "metadata": {},
   "outputs": [],
   "source": []
  }
 ],
 "metadata": {
  "kernelspec": {
   "display_name": "Python 3",
   "language": "python",
   "name": "python3"
  },
  "language_info": {
   "codemirror_mode": {
    "name": "ipython",
    "version": 3
   },
   "file_extension": ".py",
   "mimetype": "text/x-python",
   "name": "python",
   "nbconvert_exporter": "python",
   "pygments_lexer": "ipython3",
   "version": "3.10.7"
  }
 },
 "nbformat": 4,
 "nbformat_minor": 2
}
