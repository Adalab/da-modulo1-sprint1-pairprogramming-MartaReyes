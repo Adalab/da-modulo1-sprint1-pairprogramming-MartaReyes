{
 "cells": [
  {
   "cell_type": "code",
   "execution_count": 38,
   "metadata": {},
   "outputs": [
    {
     "data": {
      "text/plain": [
       "{}"
      ]
     },
     "execution_count": 38,
     "metadata": {},
     "output_type": "execute_result"
    }
   ],
   "source": [
    "#1. Crear un diccionario vacío\n",
    "#Descripción: Crea un diccionario vacío sin ningún par clave-valor.\n",
    "diccionario= {}\n",
    "diccionario"
   ]
  },
  {
   "cell_type": "code",
   "execution_count": 39,
   "metadata": {},
   "outputs": [
    {
     "name": "stdout",
     "output_type": "stream",
     "text": [
      "{'nombre': 'Reyes', 'apellido': 'Fernandez', 'SO': 'Windows', 'Python': 'Sí', 'GitHub': 'Sí'}\n"
     ]
    }
   ],
   "source": [
    "#2. Crear un diccionario con elementos\n",
    "# Descripción: Crea un diccionario con pares clave-valor predefinidos. Definir el diccionario con las claves y valores que querais. NOTA El diccionario debe tener al menos 5 pares de clave:valor.\n",
    "diccionario_clase={\"nombre\": \"Reyes\", \"apellido\":\"Fernandez\", \"SO\":\"Windows\", \"Python\": \"Sí\", \"GitHub\": \"Sí\"}\n",
    "print(diccionario_clase)"
   ]
  },
  {
   "cell_type": "code",
   "execution_count": 12,
   "metadata": {},
   "outputs": [
    {
     "name": "stdout",
     "output_type": "stream",
     "text": [
      "¿Qué quieres que busque?\n"
     ]
    },
    {
     "data": {
      "text/plain": [
       "'Reyes'"
      ]
     },
     "execution_count": 12,
     "metadata": {},
     "output_type": "execute_result"
    }
   ],
   "source": [
    "#3. Acceder al valor de una clave en un diccionario\n",
    "#Descripción: Usando el diccionario creado en el paso anterior, obtén el valor correspondiente a una clave específica que indique el usuario (debereis usar la función input() para preguntar al usuario).\n",
    "print(\"¿Qué quieres que busque?\")\n",
    "busqueda=input()\n",
    "diccionario_clase.get(busqueda, \"No está en el diccionario\")\n",
    "\n",
    "\n"
   ]
  },
  {
   "cell_type": "code",
   "execution_count": 40,
   "metadata": {},
   "outputs": [
    {
     "data": {
      "text/plain": [
       "{'nombre': 'Reyes',\n",
       " 'apellido': 'Fernandez',\n",
       " 'SO': 'Windows',\n",
       " 'Python': 'Sí',\n",
       " 'GitHub': 'Sí',\n",
       " 'Promoción': 'F'}"
      ]
     },
     "execution_count": 40,
     "metadata": {},
     "output_type": "execute_result"
    }
   ],
   "source": [
    "#4. Agregar un nuevo par clave-valor a un diccionario\n",
    "# Descripción: Usando el diccionario creado en el ejercicio 2, agrega un nuevo par clave-valor.\n",
    "diccionario_clase[\"Promoción\"]= \"F\"\n",
    "diccionario_clase"
   ]
  },
  {
   "cell_type": "code",
   "execution_count": 41,
   "metadata": {},
   "outputs": [
    {
     "data": {
      "text/plain": [
       "{'nombre': 'Reyes',\n",
       " 'apellido': 'Fernandez',\n",
       " 'SO': 'Windows',\n",
       " 'Python': 'Sí',\n",
       " 'GitHub': 'Sí',\n",
       " 'Promoción': 'Promo F'}"
      ]
     },
     "execution_count": 41,
     "metadata": {},
     "output_type": "execute_result"
    }
   ],
   "source": [
    "# 5. Actualizar el valor de una clave en un diccionario\n",
    "# Descripción: Usando el diccionario creado en el ejercicio 2, actualiza el valor correspondiente a una clave existente.\n",
    "\n",
    "diccionario_clase2 = diccionario_clase.copy()\n",
    "diccionario_clase2[\"Promoción\"]= \"Promo F\"\n",
    "diccionario_clase2"
   ]
  },
  {
   "cell_type": "code",
   "execution_count": 15,
   "metadata": {},
   "outputs": [
    {
     "name": "stdout",
     "output_type": "stream",
     "text": [
      "¿Qué quieres que elimine?\n"
     ]
    },
    {
     "data": {
      "text/plain": [
       "{'nombre': 'Reyes',\n",
       " 'apellido': 'Fernandez',\n",
       " 'SO': 'Windows',\n",
       " 'GitHub': 'Sí',\n",
       " 'Promoción': 'Promo F'}"
      ]
     },
     "execution_count": 15,
     "metadata": {},
     "output_type": "execute_result"
    }
   ],
   "source": [
    "# 6. Eliminar un par clave-valor de un diccionario\n",
    "# Descripción: Usando el diccionario creado en el ejercicio 2, elimina un par clave-valor específico que indique el \n",
    "# usuario (debereis usar la función input() para preguntar al usuario).\n",
    "\n",
    "print(\"¿Qué quieres que elimine?\")\n",
    "eliminar = input()\n",
    "diccionario_clase2.pop(eliminar)\n",
    "diccionario_clase2"
   ]
  },
  {
   "cell_type": "code",
   "execution_count": 16,
   "metadata": {},
   "outputs": [
    {
     "name": "stdout",
     "output_type": "stream",
     "text": [
      "¿Qué quieres que busque?\n"
     ]
    },
    {
     "data": {
      "text/plain": [
       "'Promo F'"
      ]
     },
     "execution_count": 16,
     "metadata": {},
     "output_type": "execute_result"
    }
   ],
   "source": [
    "# 7. Verificar si una clave está presente en un diccionario\n",
    "# Descripción: Usando el diccionario creado en el ejercicio 2, verifica si una clave específica está presente en él. \n",
    "# La clave a buscar debe ser pasada por el usuario, debereis usar un input().\n",
    "\n",
    "print(\"¿Qué quieres que busque?\")\n",
    "clave = input()\n",
    "diccionario_clase2.get(clave)"
   ]
  },
  {
   "cell_type": "code",
   "execution_count": 42,
   "metadata": {},
   "outputs": [
    {
     "data": {
      "text/plain": [
       "dict_keys(['nombre', 'apellido', 'SO', 'Python', 'GitHub', 'Promoción'])"
      ]
     },
     "execution_count": 42,
     "metadata": {},
     "output_type": "execute_result"
    }
   ],
   "source": [
    "# 8. Obtener una lista de todas las claves de un diccionario\n",
    "# Descripción: Usando el diccionario creado en el ejercicio 2, obtén una lista con todas las claves que contiene.\n",
    "\n",
    "diccionario_clase.keys()"
   ]
  },
  {
   "cell_type": "code",
   "execution_count": 43,
   "metadata": {},
   "outputs": [
    {
     "data": {
      "text/plain": [
       "dict_values(['Reyes', 'Fernandez', 'Windows', 'Sí', 'Sí', 'F'])"
      ]
     },
     "execution_count": 43,
     "metadata": {},
     "output_type": "execute_result"
    }
   ],
   "source": [
    "# 9. Obtener una lista de todos los valores de un diccionario\n",
    "# Descripción: Usando el diccionario creado en el ejercicio 2, obtén una lista con todos los valores que contiene.\n",
    "\n",
    "diccionario_clase.values()"
   ]
  },
  {
   "cell_type": "code",
   "execution_count": 44,
   "metadata": {},
   "outputs": [
    {
     "data": {
      "text/plain": [
       "2023"
      ]
     },
     "execution_count": 44,
     "metadata": {},
     "output_type": "execute_result"
    }
   ],
   "source": [
    "# 10. Utilizar el método setdefault() para establecer un valor predeterminado si la clave no existe\n",
    "# Descripción: Usando el diccionario creado en el ejercicio 2, obten el valor correspondiente a una clave. Si la clave no existe, \n",
    "# establece un valor predeterminado y devuelve dicho valor.\n",
    "\n",
    "diccionario_clase.setdefault(\"año\", 2023)"
   ]
  },
  {
   "cell_type": "code",
   "execution_count": 45,
   "metadata": {},
   "outputs": [
    {
     "data": {
      "text/plain": [
       "'Sí'"
      ]
     },
     "execution_count": 45,
     "metadata": {},
     "output_type": "execute_result"
    }
   ],
   "source": [
    "#11a. Manipulación de un diccionario utilizando pop() y popitem()\n",
    "# Descripción: Usando el diccionario creado en el ejercicio 2, realiza operaciones de eliminación utilizando pop() y popitem(), y observa cómo afectan al diccionario.\n",
    "diccionario_clase2.pop(\"GitHub\")\n"
   ]
  },
  {
   "cell_type": "code",
   "execution_count": 46,
   "metadata": {},
   "outputs": [
    {
     "data": {
      "text/plain": [
       "('Promoción', 'Promo F')"
      ]
     },
     "execution_count": 46,
     "metadata": {},
     "output_type": "execute_result"
    }
   ],
   "source": [
    "#11. Manipulación de un diccionario utilizando pop() y popitem()\n",
    "# Descripción: Usando el diccionario creado en el ejercicio 2, realiza operaciones de eliminación utilizando pop() y popitem(), y observa cómo afectan al diccionario.\n",
    "diccionario_clase2.popitem()\n"
   ]
  },
  {
   "cell_type": "markdown",
   "metadata": {},
   "source": [
    "# Ejercicios sets #"
   ]
  },
  {
   "cell_type": "code",
   "execution_count": 48,
   "metadata": {},
   "outputs": [
    {
     "data": {
      "text/plain": [
       "{}"
      ]
     },
     "execution_count": 48,
     "metadata": {},
     "output_type": "execute_result"
    }
   ],
   "source": [
    "#1. Crear un conjunto vacío\n",
    "# Descripción: Crea un conjunto vacío sin ningún elemento.\n",
    "conjunto={}\n",
    "conjunto"
   ]
  },
  {
   "cell_type": "code",
   "execution_count": 66,
   "metadata": {},
   "outputs": [
    {
     "data": {
      "text/plain": [
       "{1, 2, 3, 4, 5, 6, 7, 8, 9}"
      ]
     },
     "execution_count": 66,
     "metadata": {},
     "output_type": "execute_result"
    }
   ],
   "source": [
    "#2. Crear un conjunto con elementos\n",
    "# Descripción: Crea un conjunto con elementos predefinidos.\n",
    "numeros={1,2,3,4,5,6,7,8,9}\n",
    "numeros"
   ]
  },
  {
   "cell_type": "code",
   "execution_count": 67,
   "metadata": {},
   "outputs": [
    {
     "data": {
      "text/plain": [
       "{1, 1.5, 2, 3, 4, 5, 6, 7, 8, 9}"
      ]
     },
     "execution_count": 67,
     "metadata": {},
     "output_type": "execute_result"
    }
   ],
   "source": [
    "#3a. Agregar elementos a un conjunto\n",
    "#Descripción: Usando el set creado en el ejercicio 2, agrega nuevos elementos. Debereis agregar por separado:\n",
    "#Un elemento solo\n",
    "\n",
    "numeros.add(1.5)\n",
    "numeros"
   ]
  },
  {
   "cell_type": "code",
   "execution_count": 68,
   "metadata": {},
   "outputs": [
    {
     "data": {
      "text/plain": [
       "{1, 1.5, 2, 2.75, 3, 4, 5, 6, 6.87, 7, 8, 9}"
      ]
     },
     "execution_count": 68,
     "metadata": {},
     "output_type": "execute_result"
    }
   ],
   "source": [
    "#3b. Agregar elementos a un conjunto\n",
    "#Descripción: Usando el set creado en el ejercicio 2, agrega nuevos elementos. Debereis agregar por separado:\n",
    "#Un par de elementos a la vez.\n",
    "actualizacion=[2.75, 6.87]\n",
    "numeros.update(actualizacion)\n",
    "numeros"
   ]
  },
  {
   "cell_type": "code",
   "execution_count": 69,
   "metadata": {},
   "outputs": [
    {
     "data": {
      "text/plain": [
       "{1.5, 2, 2.75, 3, 4, 5, 6, 6.87, 7, 8, 9}"
      ]
     },
     "execution_count": 69,
     "metadata": {},
     "output_type": "execute_result"
    }
   ],
   "source": [
    "# 4.Eliminar un elemento de un conjunto\n",
    "# Descripción: Usando el set creado en el ejercicio 2, elimina un elemento especificado por el usuario.\n",
    "numeros.remove(1)\n",
    "numeros\n"
   ]
  },
  {
   "cell_type": "code",
   "execution_count": 70,
   "metadata": {},
   "outputs": [
    {
     "data": {
      "text/plain": [
       "True"
      ]
     },
     "execution_count": 70,
     "metadata": {},
     "output_type": "execute_result"
    }
   ],
   "source": [
    "#5. Verificar la pertenencia de un elemento en un conjunto\n",
    "# Descripción: Usando el set creado en el ejercicio 2, verifica si un elemento específico está presente en él.\n",
    "9 in numeros"
   ]
  }
 ],
 "metadata": {
  "kernelspec": {
   "display_name": "Python 3",
   "language": "python",
   "name": "python3"
  },
  "language_info": {
   "codemirror_mode": {
    "name": "ipython",
    "version": 3
   },
   "file_extension": ".py",
   "mimetype": "text/x-python",
   "name": "python",
   "nbconvert_exporter": "python",
   "pygments_lexer": "ipython3",
   "version": "3.11.4"
  }
 },
 "nbformat": 4,
 "nbformat_minor": 2
}
