{
 "cells": [
  {
   "cell_type": "code",
   "execution_count": 3,
   "metadata": {},
   "outputs": [
    {
     "name": "stdout",
     "output_type": "stream",
     "text": [
      "El número es negativo\n"
     ]
    }
   ],
   "source": [
    "#1. Verificar si un número es positivo, negativo o cero\n",
    "#Descripción: Dado un número, verifica si es positivo, negativo o cero.\n",
    "numero=int(input())\n",
    "if numero < 0:\n",
    "    print(\"El número es negativo\")\n",
    "elif numero==0:\n",
    "    print(\"El número es 0\")\n",
    "else: \n",
    "    print(\"El número es positivo\")"
   ]
  },
  {
   "cell_type": "code",
   "execution_count": 5,
   "metadata": {},
   "outputs": [
    {
     "name": "stdout",
     "output_type": "stream",
     "text": [
      "El número es par\n"
     ]
    }
   ],
   "source": [
    "#2. Verificar si un número es par o impar\n",
    "#Descripción: Dado un número, verifica si es par o impar.\n",
    "numero=int(input())\n",
    "if numero % 2 == 0:\n",
    "    print(\"El número es par\")\n",
    "else: \n",
    "    print(\"El número es impar\")"
   ]
  },
  {
   "cell_type": "code",
   "execution_count": 7,
   "metadata": {},
   "outputs": [
    {
     "name": "stdout",
     "output_type": "stream",
     "text": [
      "Ha aprobado el examen\n"
     ]
    }
   ],
   "source": [
    "#3. Verificar si un estudiante aprobó o suspendió un examen\n",
    "#Descripción: Dada la calificación de un estudiante en un examen, verifica si aprobó o suspendió (si la calificación es mayor o igual a 60 se considera aprobado).\n",
    "nota=int(input())\n",
    "if nota>=60:\n",
    "    print(\"Ha aprobado el examen\")\n",
    "else: \n",
    "    print(\"Necesita mejorar\")"
   ]
  },
  {
   "cell_type": "code",
   "execution_count": 10,
   "metadata": {},
   "outputs": [
    {
     "name": "stdout",
     "output_type": "stream",
     "text": [
      "3 es igual a 3\n"
     ]
    }
   ],
   "source": [
    "#4. Calcular el máximo entre dos números\n",
    "#Descripción: Dados dos números, encuentra el máximo entre ellos.\n",
    "numero_1=int(input())\n",
    "numero_2=int(input())\n",
    "\n",
    "if numero_1 > numero_2:\n",
    "    print(f\"{numero_1} es mayor que {numero_2}\")\n",
    "elif numero_2 > numero_1:\n",
    "    print (f\"{numero_2} es mayor que {numero_1}\")\n",
    "else: \n",
    "    print(f\"{numero_1} es igual a {numero_2}\")"
   ]
  },
  {
   "cell_type": "code",
   "execution_count": 12,
   "metadata": {},
   "outputs": [
    {
     "name": "stdout",
     "output_type": "stream",
     "text": [
      "g es una consonante\n"
     ]
    }
   ],
   "source": [
    "#5. Verificar si una letra es una vocal o una consonante\n",
    "#Descripción: Dada una letra, verifica si es una vocal o una consonante.\n",
    "\n",
    "vocales=[\"a\", \"e\", \"i\", \"o\", \"u\"]\n",
    "letra=input(\"Introduce una letra\")\n",
    "\n",
    "if letra in vocales:\n",
    "    print(f\"{letra} es una vocal\")\n",
    "else: \n",
    "    print(f\"{letra} es una consonante\")"
   ]
  },
  {
   "cell_type": "code",
   "execution_count": 15,
   "metadata": {},
   "outputs": [
    {
     "name": "stdout",
     "output_type": "stream",
     "text": [
      "No se puede aplicar ningún descuento. El importe ha sido de 70\n"
     ]
    }
   ],
   "source": [
    "#6. Calcular el descuento en una compra según el monto total\n",
    "# Descripción: Dado el monto total de una compra, calcula el descuento aplicado según las siguientes condiciones: \n",
    "# si el monto es mayor o igual a $100, aplica un descuento del 10%; de lo contrario, no aplica ningún descuento.\n",
    "\n",
    "gasto=int(input(\"El gasto ha sido de\"))\n",
    "\n",
    "if gasto>=100: \n",
    "    descuento=gasto*0.1\n",
    "    gasto-=descuento\n",
    "    print(\"Se aplica un 10% de descuento, por lo que el importe total es\", gasto)\n",
    "\n",
    "else: \n",
    "    print(\"No se puede aplicar ningún descuento. El importe ha sido de\", gasto)"
   ]
  },
  {
   "cell_type": "code",
   "execution_count": null,
   "metadata": {},
   "outputs": [],
   "source": []
  }
 ],
 "metadata": {
  "kernelspec": {
   "display_name": "base",
   "language": "python",
   "name": "python3"
  },
  "language_info": {
   "codemirror_mode": {
    "name": "ipython",
    "version": 3
   },
   "file_extension": ".py",
   "mimetype": "text/x-python",
   "name": "python",
   "nbconvert_exporter": "python",
   "pygments_lexer": "ipython3",
   "version": "3.9.7"
  }
 },
 "nbformat": 4,
 "nbformat_minor": 2
}
