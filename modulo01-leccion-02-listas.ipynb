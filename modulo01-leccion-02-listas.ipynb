{
 "cells": [
  {
   "cell_type": "code",
   "execution_count": 4,
   "metadata": {},
   "outputs": [
    {
     "name": "stdout",
     "output_type": "stream",
     "text": [
      "[1, 2, 3, 4, 1, 2, 3, 4]\n"
     ]
    }
   ],
   "source": [
    "lista = [1, 2, 3, 4]\n",
    "lista.extend(lista)\n",
    "\n",
    "print(lista)\n"
   ]
  },
  {
   "cell_type": "code",
   "execution_count": 5,
   "metadata": {},
   "outputs": [
    {
     "data": {
      "text/plain": [
       "[1, 3, 1, 3]"
      ]
     },
     "execution_count": 5,
     "metadata": {},
     "output_type": "execute_result"
    }
   ],
   "source": [
    "# 15. Obtener elementos pares de una lista\n",
    "\n",
    "lista[::2]\n"
   ]
  },
  {
   "cell_type": "code",
   "execution_count": 8,
   "metadata": {},
   "outputs": [
    {
     "name": "stdout",
     "output_type": "stream",
     "text": [
      "[1, 4, 3]\n"
     ]
    }
   ],
   "source": [
    "# 16. Obtener una sublista saltando elementos\n",
    "\n",
    "lista_3 = lista[::3]\n",
    "print(lista_3)"
   ]
  },
  {
   "cell_type": "code",
   "execution_count": 15,
   "metadata": {},
   "outputs": [],
   "source": [
    "# 17. Encuentra el segundo valor máximo.\n",
    "\n",
    "lista_4 = [1, 2, 3, 4, 5, 6]\n",
    "#Primero se ordena (la nuestra no lo necesita)"
   ]
  },
  {
   "cell_type": "code",
   "execution_count": 11,
   "metadata": {},
   "outputs": [
    {
     "data": {
      "text/plain": [
       "5"
      ]
     },
     "execution_count": 11,
     "metadata": {},
     "output_type": "execute_result"
    }
   ],
   "source": [
    "lista_4[-2]"
   ]
  },
  {
   "cell_type": "code",
   "execution_count": 16,
   "metadata": {},
   "outputs": [
    {
     "data": {
      "text/plain": [
       "5"
      ]
     },
     "execution_count": 16,
     "metadata": {},
     "output_type": "execute_result"
    }
   ],
   "source": [
    "#segunda forma: \n",
    "\n",
    "lista_4.pop()\n",
    "lista_4[-1]"
   ]
  },
  {
   "cell_type": "markdown",
   "metadata": {},
   "source": [
    "## 18. Teórico. Debereis contestar la pregunta en una celda de markdown.##\n",
    "\n",
    "#¿Qué diferencia existe entre el .sort() y el sorted()#\n",
    "\n",
    "\n",
    ".sort() modifica la lista y sorted() no modifica la original\n"
   ]
  },
  {
   "cell_type": "code",
   "execution_count": 19,
   "metadata": {},
   "outputs": [
    {
     "name": "stdout",
     "output_type": "stream",
     "text": [
      "['compra', 'perro', 'coche', ['baño', 'aspirador']]\n"
     ]
    },
    {
     "data": {
      "text/plain": [
       "4"
      ]
     },
     "execution_count": 19,
     "metadata": {},
     "output_type": "execute_result"
    }
   ],
   "source": [
    "# 19. Insertar un elemento en una posición específica (append)\n",
    "\n",
    "tareas = [\"compra\", \"perro\", \"coche\"]\n",
    "tareas_compartidas = [\"baño\", \"aspirador\"]\n",
    "\n",
    "tareas.append(tareas_compartidas)\n",
    "print(tareas)\n",
    "len(tareas)"
   ]
  },
  {
   "cell_type": "code",
   "execution_count": 20,
   "metadata": {},
   "outputs": [
    {
     "name": "stdout",
     "output_type": "stream",
     "text": [
      "['compra', 'perro', 'coche', 'baño', 'aspirador']\n"
     ]
    },
    {
     "data": {
      "text/plain": [
       "5"
      ]
     },
     "execution_count": 20,
     "metadata": {},
     "output_type": "execute_result"
    }
   ],
   "source": [
    "# 19. Insertar un elemento en una posición específica (extend)\n",
    "\n",
    "tareas = [\"compra\", \"perro\", \"coche\"]\n",
    "tareas_compartidas = [\"baño\", \"aspirador\"]\n",
    "\n",
    "tareas.extend(tareas_compartidas)\n",
    "print(tareas)\n",
    "len(tareas)"
   ]
  },
  {
   "cell_type": "code",
   "execution_count": 23,
   "metadata": {},
   "outputs": [
    {
     "name": "stdout",
     "output_type": "stream",
     "text": [
      "['compra', 'perro', 'coche', 'baño', 'aspirador']\n",
      "lavadora\n"
     ]
    }
   ],
   "source": [
    "# 20. Insertar un elemento en una posición específica\n",
    "\n",
    "#Descripción: Dada una lista, inserta un nuevo elemento en una posición específica determinada por el usuario\n",
    "# (debereis usar la función input para preguntar al usuario en que posición quiere insertar el elemento).\n",
    "\n",
    "print(tareas)\n",
    "\n",
    "tarea_extra = input()\n",
    "print(tarea_extra)\n",
    "\n",
    "tareas.append(tarea_extra)"
   ]
  },
  {
   "cell_type": "code",
   "execution_count": 24,
   "metadata": {},
   "outputs": [
    {
     "name": "stdout",
     "output_type": "stream",
     "text": [
      "['compra', 'perro', 'coche', 'baño', 'aspirador', 'lavadora']\n"
     ]
    }
   ],
   "source": [
    "print(tareas)"
   ]
  },
  {
   "cell_type": "code",
   "execution_count": 28,
   "metadata": {},
   "outputs": [
    {
     "data": {
      "text/plain": [
       "False"
      ]
     },
     "execution_count": 28,
     "metadata": {},
     "output_type": "execute_result"
    }
   ],
   "source": [
    "# 21. Verificar si un elemento está presente en una lista\n",
    "\n",
    "tarea_extra2 = input()\n",
    "\n",
    "tarea_extra2 in tareas"
   ]
  },
  {
   "cell_type": "code",
   "execution_count": 33,
   "metadata": {},
   "outputs": [
    {
     "name": "stdout",
     "output_type": "stream",
     "text": [
      "['compra', 'perro', 'baño', 'aspirador', 'lavadora']\n"
     ]
    }
   ],
   "source": [
    "# 22. Manipulación de una lista utilizando remove(), pop() y clear()\n",
    "\n",
    "tarea_copy = tareas.copy()\n",
    "\n",
    "tarea_copy.remove(\"coche\")\n",
    "print(tarea_copy)"
   ]
  },
  {
   "cell_type": "code",
   "execution_count": 34,
   "metadata": {},
   "outputs": [
    {
     "name": "stdout",
     "output_type": "stream",
     "text": [
      "['compra', 'perro', 'baño', 'lavadora']\n"
     ]
    }
   ],
   "source": [
    "tarea_copy.pop(-2)\n",
    "print(tarea_copy)"
   ]
  },
  {
   "cell_type": "code",
   "execution_count": 35,
   "metadata": {},
   "outputs": [
    {
     "name": "stdout",
     "output_type": "stream",
     "text": [
      "[]\n"
     ]
    }
   ],
   "source": [
    "tarea_copy.clear()\n",
    "print(tarea_copy)"
   ]
  }
 ],
 "metadata": {
  "kernelspec": {
   "display_name": "base",
   "language": "python",
   "name": "python3"
  },
  "language_info": {
   "codemirror_mode": {
    "name": "ipython",
    "version": 3
   },
   "file_extension": ".py",
   "mimetype": "text/x-python",
   "name": "python",
   "nbconvert_exporter": "python",
   "pygments_lexer": "ipython3",
   "version": "3.11.4"
  }
 },
 "nbformat": 4,
 "nbformat_minor": 2
}
