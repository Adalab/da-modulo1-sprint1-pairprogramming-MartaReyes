{
 "cells": [
  {
   "cell_type": "code",
   "execution_count": 2,
   "metadata": {},
   "outputs": [
    {
     "name": "stdout",
     "output_type": "stream",
     "text": [
      "El primer nucleótido de la tupla es adenina\n",
      "El primer nucleótido de la tupla es adenina\n",
      "El último nucleótido de la tupla es citosina\n",
      "La longitud de la tupla es 4\n",
      "Los nucleótidos de ARN son  ('adenina', 'citosina', 'guanina', 'uracilo')\n",
      "La concatenación de las tuplas es ('adenina', 'timina', 'guanina', 'citosina', 'adenina', 'citosina', 'guanina', 'uracilo')\n"
     ]
    }
   ],
   "source": [
    "nucleotidos_ADN= (\"adenina\", \"timina\", \"guanina\", \"citosina\")\n",
    "print (\"El primer nucleótido de la tupla es\", nucleotidos_ADN [-4])\n",
    "print (\"El primer nucleótido de la tupla es\", nucleotidos_ADN [0])\n",
    "print (\"El último nucleótido de la tupla es\", nucleotidos_ADN [-1])\n",
    "print(\"La longitud de la tupla es\", len(nucleotidos_ADN))\n",
    "nucleotidos_ARN= (\"adenina\", \"citosina\", \"guanina\", \"uracilo\")\n",
    "print (\"Los nucleótidos de ARN son \",nucleotidos_ARN)\n",
    "\n",
    "nucleotidos= nucleotidos_ADN + nucleotidos_ARN\n",
    "\n",
    "print(\"La concatenación de las tuplas es\", nucleotidos)"
   ]
  },
  {
   "cell_type": "code",
   "execution_count": 3,
   "metadata": {},
   "outputs": [
    {
     "name": "stdout",
     "output_type": "stream",
     "text": [
      "El índice de la citosina es 3\n"
     ]
    }
   ],
   "source": [
    "# 5. Encontrar el índice de un elemento en una tupla\n",
    "\n",
    "print(\"El índice de la citosina es\", nucleotidos.index(\"citosina\"))"
   ]
  },
  {
   "cell_type": "code",
   "execution_count": 4,
   "metadata": {},
   "outputs": [
    {
     "name": "stdout",
     "output_type": "stream",
     "text": [
      "En la tupla dada encontramos la citosina 2 veces\n"
     ]
    }
   ],
   "source": [
    "# 6. Contar ocurrencias de un elemento en una tupla\n",
    "\n",
    "print(\"En la tupla dada encontramos la citosina\", nucleotidos.count(\"citosina\"), \"veces\")"
   ]
  },
  {
   "cell_type": "code",
   "execution_count": 5,
   "metadata": {},
   "outputs": [
    {
     "name": "stdout",
     "output_type": "stream",
     "text": [
      "Los elementos de la tupla del 1 al 3(sin incluirlo) son: ('timina', 'guanina')\n"
     ]
    }
   ],
   "source": [
    "# 7. Obtener una subtuple de una tupla\n",
    "\n",
    "nucleotidos_1_al_3 = nucleotidos[1:3]\n",
    "print(\"Los elementos de la tupla del 1 al 3(sin incluirlo) son:\", nucleotidos_1_al_3)"
   ]
  },
  {
   "cell_type": "code",
   "execution_count": 20,
   "metadata": {},
   "outputs": [
    {
     "name": "stdout",
     "output_type": "stream",
     "text": [
      "Nuestra tupla es: ('adenina', 'timina', 'guanina', 'citosina', 'adenina', 'citosina', 'guanina', 'uracilo')\n",
      "La tupla al revés es: ('uracilo', 'guanina', 'citosina', 'adenina', 'citosina', 'guanina', 'timina', 'adenina')\n",
      "También podemos darle la vuelta de la siguiente forma:\n",
      "['uracilo', 'guanina', 'citosina', 'adenina', 'citosina', 'guanina', 'timina', 'adenina']\n"
     ]
    }
   ],
   "source": [
    "# 8. Invertir una tupla\n",
    "\n",
    "print(\"Nuestra tupla es:\", nucleotidos)\n",
    "print(\"La tupla al revés es:\", nucleotidos[::-1])\n",
    "\n",
    "# Opción dos\n",
    "lista_nucleotidos = list(nucleotidos)\n",
    "lista_nucleotidos.reverse()\n",
    "print(\"También podemos darle la vuelta de la siguiente forma:\")\n",
    "print(lista_nucleotidos)"
   ]
  }
 ],
 "metadata": {
  "kernelspec": {
   "display_name": "Python 3",
   "language": "python",
   "name": "python3"
  },
  "language_info": {
   "codemirror_mode": {
    "name": "ipython",
    "version": 3
   },
   "file_extension": ".py",
   "mimetype": "text/x-python",
   "name": "python",
   "nbconvert_exporter": "python",
   "pygments_lexer": "ipython3",
   "version": "3.9.6"
  }
 },
 "nbformat": 4,
 "nbformat_minor": 2
}
